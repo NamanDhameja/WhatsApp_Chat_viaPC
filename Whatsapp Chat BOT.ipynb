{
 "cells": [
  {
   "cell_type": "markdown",
   "metadata": {},
   "source": [
    "## Send texts on Whatsapp through PYTHON\n",
    "\n",
    "Replace `raw_input() ` by `input()`."
   ]
  },
  {
   "cell_type": "code",
   "execution_count": null,
   "metadata": {},
   "outputs": [],
   "source": [
    "# Importing Libraries\n",
    "import selenium\n",
    "import os\n",
    "from selenium import webdriver\n",
    "from webdrivermanager import ChromeDriverManager\n",
    "import time\n",
    "from selenium.webdriver.common.keys import Keys\n",
    "import random"
   ]
  },
  {
   "cell_type": "code",
   "execution_count": null,
   "metadata": {},
   "outputs": [],
   "source": [
    "chrome=webdriver.Chrome(executable_path='/home/naman/Downloads/chromedriver_linux64/chromedriver')\n",
    "\n",
    "time.sleep(2)  # to pause the program for 2 seconds\n",
    "\n",
    "chrome.get(\"https://web.whatsapp.com\")   # Search the url -> Whatsapp web\n",
    "time.sleep(15)   # I have given 15 sec time to scan and load the whatsapp chat page"
   ]
  },
  {
   "cell_type": "code",
   "execution_count": null,
   "metadata": {},
   "outputs": [],
   "source": [
    "search_chat_user=chrome.find_element_by_xpath('//*[@id=\"side\"]/div[1]/div/label/div/div[2]')\n",
    "search_chat_user.click()\n",
    "chat_name=str(input(\"Enter name of the person you want to chat with:\"))  # To start the chat with the person\n",
    "search_chat_user.send_keys(chat_name)   # Send keys does what you want to do with your keyboard\n",
    "search_chat_user.send_keys(Keys.ARROW_DOWN)\n",
    "search_chat_user.send_keys(Keys.ENTER)"
   ]
  },
  {
   "cell_type": "code",
   "execution_count": null,
   "metadata": {},
   "outputs": [],
   "source": [
    "# If you want to send one msg multiple times\n",
    "n=int(raw_input(\"Enter number of times you want to send the msgs:\"))\n",
    "i=0\n",
    "type_message=chrome.find_element_by_xpath('//*[@id=\"main\"]/footer/div[1]/div[2]')\n",
    "msg=str(input(\"Enter your msg:\"))\n",
    "while(i<n):\n",
    "    type_message.send_keys(msg)\n",
    "    time.sleep(2)\n",
    "    type_message.send_keys(Keys.ENTER)\n",
    "    time.sleep(1)\n",
    "    i+=1"
   ]
  },
  {
   "cell_type": "code",
   "execution_count": null,
   "metadata": {},
   "outputs": [],
   "source": [
    "# If you want chat normal\n",
    "type_message=chrome.find_element_by_xpath('//*[@id=\"main\"]/footer/div[1]/div[2]')\n",
    "msg=str(input(\"Enter your msg:\"))\n",
    "type_message.send_keys(msg)\n",
    "time.sleep(2)\n",
    "type_message.send_keys(Keys.ENTER)"
   ]
  },
  {
   "cell_type": "code",
   "execution_count": null,
   "metadata": {},
   "outputs": [],
   "source": [
    "\"\"\"\n",
    "I wasn't able to check for their msgs and display them as they receive. If anyone knows that please tell.\n",
    "\"\"\""
   ]
  },
  {
   "cell_type": "code",
   "execution_count": null,
   "metadata": {},
   "outputs": [],
   "source": [
    "# To send msgs to random contacts\n",
    "# this only opens a randomm chat\n",
    "def random_chat():\n",
    "    phonerandom=[]  # Create a list of your contact names\n",
    "    return random.choice(phonerandom) \n",
    "chat_name=random_chat()\n",
    "search_chat_user.send_keys(chat_name)\n",
    "search_chat_user.send_keys(Keys.ARROW_DOWN)\n",
    "search_chat_user.send_keys(Keys.ENTER)"
   ]
  },
  {
   "cell_type": "code",
   "execution_count": null,
   "metadata": {},
   "outputs": [],
   "source": [
    "\n",
    "def name_of_chat():\n",
    "    phonebook=[]   # Create a list of your contact names\n",
    "    for phone in phonebook:\n",
    "        chat_name=phone\n",
    "        search_chat_user.send_keys(chat_name)\n",
    "        search_chat_user.send_keys(Keys.ARROW_DOWN)\n",
    "        search_chat_user.send_keys(Keys.ENTER)\n",
    "        type_message.send_keys(msg)\n",
    "        time.sleep(2)\n",
    "        type_message.send_keys(Keys.ENTER)\n",
    "        \n",
    "type_message=chrome.find_element_by_xpath('//*[@id=\"main\"]/footer/div[1]/div[2]')\n",
    "msg=str(input(\"Enter your msg:\"))\n",
    "name_of_chat()"
   ]
  }
 ],
 "metadata": {
  "kernelspec": {
   "display_name": "Python 3",
   "language": "python",
   "name": "python3"
  },
  "language_info": {
   "codemirror_mode": {
    "name": "ipython",
    "version": 3
   },
   "file_extension": ".py",
   "mimetype": "text/x-python",
   "name": "python",
   "nbconvert_exporter": "python",
   "pygments_lexer": "ipython3",
   "version": "3.7.7"
  }
 },
 "nbformat": 4,
 "nbformat_minor": 4
}
